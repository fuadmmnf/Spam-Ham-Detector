{
 "cells": [
  {
   "cell_type": "code",
   "execution_count": 61,
   "metadata": {},
   "outputs": [],
   "source": [
    "import pandas as pd\n",
    "import numpy as np"
   ]
  },
  {
   "cell_type": "code",
   "execution_count": 62,
   "metadata": {},
   "outputs": [],
   "source": [
    "def calculateAccuracy(predictionTable):\n",
    "    accuracy = (predictionTable[0,0] + predictionTable[1,1]) / (predictionTable[0,0] + predictionTable[0,1] + predictionTable[1,0] + predictionTable[1,1])\n",
    "#     print(accuracy)\n",
    "    return accuracy"
   ]
  },
  {
   "cell_type": "code",
   "execution_count": 63,
   "metadata": {},
   "outputs": [],
   "source": [
    "def calculatePrecision(predictionTable):\n",
    "    precision = (predictionTable[0,0]) / (predictionTable[0,0] +  predictionTable[1,0])\n",
    "    if (predictionTable[0,0] +  predictionTable[1,0]) == 0 :\n",
    "        precision = 0\n",
    "    \n",
    "    #print(precision)\n",
    "    return precision"
   ]
  },
  {
   "cell_type": "code",
   "execution_count": 64,
   "metadata": {},
   "outputs": [],
   "source": [
    "def calculateRecall(predictionTable):\n",
    "    recall = (predictionTable[0,0]) / (predictionTable[0,0] +  predictionTable[0,1])\n",
    "    if (predictionTable[0,0] +  predictionTable[0,1]) == 0 :\n",
    "        recall = 0\n",
    "    #print(recall)\n",
    "    return recall "
   ]
  },
  {
   "cell_type": "code",
   "execution_count": 65,
   "metadata": {},
   "outputs": [],
   "source": [
    "def calculateFmeasure(predictionTable):\n",
    "    #2*(Recall * Precision) / (Recall + Precision)\n",
    "    recall = calculateRecall(predictionTable)\n",
    "    precision = calculatePrecision(predictionTable)\n",
    "    \n",
    "    f_measure = (2 * recall * precision) / (recall + precision)\n",
    "    if recall == precision == 0 :\n",
    "        f_measure = 0\n",
    "        \n",
    "#     print(precision)\n",
    "#     print(recall)\n",
    "#     print(f_measure)\n",
    "    return f_measure"
   ]
  },
  {
   "cell_type": "code",
   "execution_count": 66,
   "metadata": {},
   "outputs": [],
   "source": [
    "def getKFoldData(path, kfold ):\n",
    "    train_arr = list()\n",
    "    test_arr = list()\n",
    "    data = pd.read_csv(path)\n",
    "    dataLen = len(data)\n",
    "    segmentSize = int(dataLen/kfold)\n",
    "#     np.random.seed(kfold)\n",
    "#     seedList = np.random.randint(low=0, high=200, size=kfold)\n",
    "\n",
    "#     for seed in seedList:\n",
    "#         tempDf = data.copy()\n",
    "#         np.random.seed(seed)\n",
    "#         tempDf.apply(np.random.shuffle, axis=0)\n",
    "#         #print(tempDf.iloc[0:int(dataLen/10)])\n",
    "#         test_arr.append(tempDf.iloc[0:segmentSize])\n",
    "#         train_arr.append(tempDf.iloc[segmentSize: ].reset_index())\n",
    "    tempDf = data.copy()\n",
    "    np.random.seed(kfold)\n",
    "    tempDf.apply(np.random.shuffle, axis=0)\n",
    "    \n",
    "    \n",
    "    for i in range(0, kfold):\n",
    "            \n",
    "            #print(tempDf.iloc[0:int(dataLen/10)])\n",
    "            testSegment = tempDf.iloc[(i*segmentSize): (i*segmentSize + segmentSize)]\n",
    "            test_arr.append(testSegment)\n",
    "            train_arr.append(tempDf.drop(tempDf.index[(i*segmentSize): (i*segmentSize + segmentSize)]))\n",
    "            #train_arr.append(tempDf.iloc[int(dataLen/10): ].reset_index())\n",
    "\n",
    "    return train_arr, test_arr"
   ]
  },
  {
   "cell_type": "code",
   "execution_count": 69,
   "metadata": {},
   "outputs": [],
   "source": [
    "def spam_ham_detect():\n",
    "\n",
    "    classIndex = 57\n",
    "    filePath = 'spambase.csv'\n",
    "    kFold = 10\n",
    "    accuracy = 0\n",
    "    precision = 0.0\n",
    "    recall = 0.0\n",
    "    f_measure = 0.0\n",
    "\n",
    "    data = pd.read_csv(filePath, header = None)\n",
    "    rowCount = data.shape[1]\n",
    "    hamProb = np.zeros((rowCount-1))\n",
    "    spamProb = np.zeros((rowCount-1))\n",
    "\n",
    "    train_arr, test_arr = getKFoldData(filePath, kFold)\n",
    "\n",
    "\n",
    "    for it in range(0, kFold):\n",
    "        \n",
    "        predictionTable = np.zeros((2,2))\n",
    "        \n",
    "        hamData = train_arr[it][train_arr[it].iloc[:, classIndex] == 0]\n",
    "        spamData = train_arr[it][train_arr[it].iloc[:, classIndex] == 1]\n",
    "\n",
    "        for i in range(0, rowCount-1):\n",
    "            dataSum = train_arr[it].iloc[:, i].sum()\n",
    "            hamProb[i] = hamData.iloc[:, i].sum()\n",
    "            spamProb[i] = spamData.iloc[:, i].sum()\n",
    "           \n",
    "        \n",
    "        for index,test in test_arr[it].iterrows():\n",
    "            \n",
    "            ham = 1.0\n",
    "            spam = 1.0\n",
    "            iterator = 0\n",
    "            for value in test.iteritems():\n",
    "               \n",
    "                if value != 0:\n",
    "                    if hamProb[iterator] == 0 or spamProb[iterator] == 0:\n",
    "                        continue\n",
    "                    ham *= hamProb[iterator]\n",
    "                    spam *= spamProb[iterator]\n",
    "            iterator += 1\n",
    "            \n",
    "            predictedValue = 0\n",
    "            \n",
    "            if spam > ham:\n",
    "                predictedValue = 1\n",
    "                \n",
    "    \n",
    "            if predictedValue == test.iloc[classIndex] == 1 :\n",
    "                    predictionTable[0,0] += 1\n",
    "\n",
    "            if predictedValue == 0 and test.iloc[classIndex] == 1 :\n",
    "                predictionTable[0,1] += 1\n",
    "\n",
    "            if predictedValue == 1 and test.iloc[classIndex] == 0 :\n",
    "                predictionTable[1,0] += 1\n",
    "\n",
    "            if predictedValue == 0 and test.iloc[classIndex] == 0 :\n",
    "                predictionTable[1,1] += 1\n",
    "            \n",
    "            accuracy += calculateAccuracy(predictionTable)\n",
    "#             precision += calculatePrecision(predictionTable)\n",
    "#             recall += calculateRecall(predictionTable)\n",
    "#             f_measure += calculateFmeasure(predictionTable)\n",
    "    print(\"accuracy: \",accuracy/kFold)\n",
    "#     print(\"precision: \", precision/kFold)\n",
    "#     print(\"recall: \",recall/kFold)\n",
    "#     print(\"f_measure: \", f_measure/kFold)"
   ]
  },
  {
   "cell_type": "code",
   "execution_count": 70,
   "metadata": {},
   "outputs": [
    {
     "name": "stdout",
     "output_type": "stream",
     "text": [
      "accuracy:  91.90995773215387\n"
     ]
    }
   ],
   "source": [
    "spam_ham_detect()"
   ]
  },
  {
   "cell_type": "code",
   "execution_count": null,
   "metadata": {},
   "outputs": [],
   "source": []
  }
 ],
 "metadata": {
  "kernelspec": {
   "display_name": "Python 3",
   "language": "python",
   "name": "python3"
  },
  "language_info": {
   "codemirror_mode": {
    "name": "ipython",
    "version": 3
   },
   "file_extension": ".py",
   "mimetype": "text/x-python",
   "name": "python",
   "nbconvert_exporter": "python",
   "pygments_lexer": "ipython3",
   "version": "3.7.1"
  }
 },
 "nbformat": 4,
 "nbformat_minor": 2
}
